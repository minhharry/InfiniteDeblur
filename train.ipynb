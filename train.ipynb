{
 "cells": [
  {
   "cell_type": "code",
   "execution_count": 1,
   "metadata": {},
   "outputs": [],
   "source": [
    "import glob\n",
    "\n",
    "import lightning as L\n",
    "import torch\n",
    "import torch.nn as nn\n",
    "import torch.nn.functional as F\n",
    "import torchvision\n",
    "from lightning.pytorch.callbacks import LearningRateMonitor, ModelCheckpoint\n",
    "from torch.utils.data import DataLoader\n",
    "from torchinfo import summary\n",
    "from torchvision.transforms import v2\n",
    "import lpips\n",
    "\n",
    "from dataset import GoProDataset\n",
    "from model import BaseLineUnet\n",
    "from NAFnet_baseline.Baseline_arch import Baseline"
   ]
  },
  {
   "cell_type": "code",
   "execution_count": 2,
   "metadata": {},
   "outputs": [],
   "source": [
    "def create_dict_of_files():\n",
    "    files = []\n",
    "    files.extend(glob.glob(\"**/*.py\", recursive=True))\n",
    "    files.extend(glob.glob(\"**/*.ipynb\", recursive=True))\n",
    "    data = {}\n",
    "    for file in files:\n",
    "        with open(file, 'r', encoding='utf-8') as f:\n",
    "            text_content = f.read()\n",
    "        data[file] = text_content\n",
    "    return data"
   ]
  },
  {
   "cell_type": "code",
   "execution_count": 3,
   "metadata": {},
   "outputs": [],
   "source": [
    "class PerceptualLoss(nn.Module):\n",
    "    def __init__(self) -> None:\n",
    "        super().__init__()\n",
    "        self.net = nn.Sequential(\n",
    "            nn.Conv2d(3, 32, kernel_size=3, stride=1, padding=1),\n",
    "            nn.LeakyReLU(0.1),\n",
    "            nn.MaxPool2d(2),\n",
    "        )\n",
    "        self.net2 = nn.Sequential(\n",
    "            nn.Conv2d(32, 64, kernel_size=3, stride=1, padding=1),\n",
    "            nn.LeakyReLU(0.1),\n",
    "            nn.MaxPool2d(2),\n",
    "        )\n",
    "        self.net3 = nn.Sequential(\n",
    "            nn.Conv2d(64, 128, kernel_size=3, stride=1, padding=1),\n",
    "            nn.LeakyReLU(0.1),\n",
    "            nn.MaxPool2d(2),\n",
    "        )\n",
    "        self.net4 = nn.Sequential(\n",
    "            nn.Conv2d(128, 256, kernel_size=3, stride=1, padding=1),\n",
    "            nn.LeakyReLU(0.1),\n",
    "            nn.MaxPool2d(2),\n",
    "        )\n",
    "        for param in self.net.parameters():\n",
    "            param.requires_grad = False\n",
    "        for param in self.net2.parameters():\n",
    "            param.requires_grad = False\n",
    "        for param in self.net3.parameters():\n",
    "            param.requires_grad = False\n",
    "        for param in self.net4.parameters():\n",
    "            param.requires_grad = False\n",
    "\n",
    "        self.loss_fn = nn.L1Loss()\n",
    "    def reset(self):\n",
    "        self.net.apply(lambda m: torch.nn.init.kaiming_normal_(m.weight) if isinstance(m, nn.Conv2d) else None)\n",
    "\n",
    "    def forward(self, input, target):\n",
    "        self.reset()\n",
    "        input = self.net(input)\n",
    "        target = self.net(target)\n",
    "        net_loss = self.loss_fn(input, target)\n",
    "        input = self.net2(input)\n",
    "        target = self.net2(target)\n",
    "        net_loss += self.loss_fn(input, target) * 2\n",
    "        input = self.net3(input)\n",
    "        target = self.net3(target)\n",
    "        net_loss += self.loss_fn(input, target) * 4\n",
    "        input = self.net4(input)\n",
    "        target = self.net4(target)\n",
    "        net_loss += self.loss_fn(input, target) * 8\n",
    "        return net_loss"
   ]
  },
  {
   "cell_type": "code",
   "execution_count": 4,
   "metadata": {},
   "outputs": [],
   "source": [
    "class LPIPSLoss(nn.Module):\n",
    "    def __init__(self, net='alex'):\n",
    "        super().__init__()\n",
    "        self.loss = lpips.LPIPS(net=net)\n",
    "        for param in self.loss.parameters():\n",
    "            param.requires_grad = False\n",
    "\n",
    "    def forward(self, input, target):\n",
    "        # Normalize input and target to [-1, 1]\n",
    "        input = torch.clamp(input, 0, 1)\n",
    "        target = torch.clamp(target, 0, 1)\n",
    "        input = input * 2 - 1\n",
    "        target = target * 2 - 1\n",
    "        \n",
    "        return self.loss(input, target).squeeze().mean()"
   ]
  },
  {
   "cell_type": "code",
   "execution_count": 5,
   "metadata": {},
   "outputs": [],
   "source": [
    "class WeightedLoss(nn.Module):\n",
    "    def __init__(self):\n",
    "        super().__init__()\n",
    "        self.lpipsloss = LPIPSLoss()\n",
    "        self.mseloss = nn.MSELoss()\n",
    "    def forward(self, input, target):\n",
    "        return 0.8 * self.mseloss(input, target) + 0.2 * self.lpipsloss(input, target)"
   ]
  },
  {
   "cell_type": "code",
   "execution_count": 6,
   "metadata": {},
   "outputs": [
    {
     "data": {
      "text/plain": [
       "==============================================================================================================\n",
       "Layer (type:depth-idx)                                       Output Shape              Param #\n",
       "==============================================================================================================\n",
       "LightningWrapper                                             [16, 3, 256, 256]         388,416\n",
       "├─BaseLineUnet: 1-1                                          [16, 3, 256, 256]         --\n",
       "│    └─Conv2d: 2-1                                           [16, 32, 256, 256]        896\n",
       "│    └─ModuleList: 2-8                                       --                        (recursive)\n",
       "│    │    └─Sequential: 3-1                                  [16, 32, 256, 256]        7,888\n",
       "│    └─ModuleList: 2-9                                       --                        (recursive)\n",
       "│    │    └─Conv2d: 3-2                                      [16, 64, 128, 128]        8,256\n",
       "│    └─ModuleList: 2-8                                       --                        (recursive)\n",
       "│    │    └─Sequential: 3-3                                  [16, 64, 128, 128]        30,112\n",
       "│    └─ModuleList: 2-9                                       --                        (recursive)\n",
       "│    │    └─Conv2d: 3-4                                      [16, 128, 64, 64]         32,896\n",
       "│    └─ModuleList: 2-8                                       --                        (recursive)\n",
       "│    │    └─Sequential: 3-5                                  [16, 128, 64, 64]         117,568\n",
       "│    └─ModuleList: 2-9                                       --                        (recursive)\n",
       "│    │    └─Conv2d: 3-6                                      [16, 256, 32, 32]         131,328\n",
       "│    └─ModuleList: 2-8                                       --                        (recursive)\n",
       "│    │    └─Sequential: 3-7                                  [16, 256, 32, 32]         13,006,336\n",
       "│    └─ModuleList: 2-9                                       --                        (recursive)\n",
       "│    │    └─Conv2d: 3-8                                      [16, 512, 16, 16]         524,800\n",
       "│    └─Sequential: 2-10                                      [16, 512, 16, 16]         --\n",
       "│    │    └─BaseLineBlock: 3-9                               [16, 512, 16, 16]         1,846,528\n",
       "│    └─ModuleList: 2-17                                      --                        (recursive)\n",
       "│    │    └─Sequential: 3-10                                 [16, 256, 32, 32]         524,288\n",
       "│    └─ModuleList: 2-18                                      --                        (recursive)\n",
       "│    │    └─Sequential: 3-11                                 [16, 256, 32, 32]         464,512\n",
       "│    └─ModuleList: 2-17                                      --                        (recursive)\n",
       "│    │    └─Sequential: 3-12                                 [16, 128, 64, 64]         131,072\n",
       "│    └─ModuleList: 2-18                                      --                        (recursive)\n",
       "│    │    └─Sequential: 3-13                                 [16, 128, 64, 64]         117,568\n",
       "│    └─ModuleList: 2-17                                      --                        (recursive)\n",
       "│    │    └─Sequential: 3-14                                 [16, 64, 128, 128]        32,768\n",
       "│    └─ModuleList: 2-18                                      --                        (recursive)\n",
       "│    │    └─Sequential: 3-15                                 [16, 64, 128, 128]        30,112\n",
       "│    └─ModuleList: 2-17                                      --                        (recursive)\n",
       "│    │    └─Sequential: 3-16                                 [16, 32, 256, 256]        8,192\n",
       "│    └─ModuleList: 2-18                                      --                        (recursive)\n",
       "│    │    └─Sequential: 3-17                                 [16, 32, 256, 256]        7,888\n",
       "│    └─Conv2d: 2-19                                          [16, 3, 256, 256]         867\n",
       "==============================================================================================================\n",
       "Total params: 17,412,291\n",
       "Trainable params: 17,023,875\n",
       "Non-trainable params: 388,416\n",
       "Total mult-adds (Units.GIGABYTES): 254.64\n",
       "==============================================================================================================\n",
       "Input size (MB): 12.58\n",
       "Forward/backward pass size (MB): 16485.22\n",
       "Params size (MB): 68.03\n",
       "Estimated Total Size (MB): 16565.84\n",
       "=============================================================================================================="
      ]
     },
     "execution_count": 6,
     "metadata": {},
     "output_type": "execute_result"
    }
   ],
   "source": [
    "class LightningWrapper(L.LightningModule):\n",
    "    def __init__(self):\n",
    "        super().__init__()\n",
    "        self.model = BaseLineUnet()\n",
    "        self.model_code = create_dict_of_files()\n",
    "        self.loss_fn = PerceptualLoss()\n",
    "    \n",
    "    def on_save_checkpoint(self, checkpoint):\n",
    "        checkpoint[\"model_code\"] = self.model_code\n",
    "\n",
    "    def on_load_checkpoint(self, checkpoint):\n",
    "        self.model_code = checkpoint[\"model_code\"]\n",
    "\n",
    "    def forward(self, x):\n",
    "        return self.model(x)\n",
    "    \n",
    "    def training_step(self, batch, batch_idx):\n",
    "        x, y = batch\n",
    "        y_hat = self.model(x)\n",
    "        loss = self.loss_fn(y_hat, y)\n",
    "        self.log(\"train_loss\", loss, on_step=False, on_epoch=True)\n",
    "        if batch_idx == 0:\n",
    "            grid_x = torchvision.utils.make_grid(torch.clamp(x, 0, 1))\n",
    "            self.logger.experiment.add_image(\"train_x\", grid_x, self.global_step)\n",
    "            grid_y = torchvision.utils.make_grid(torch.clamp(y, 0, 1))\n",
    "            self.logger.experiment.add_image(\"train_y\", grid_y, self.global_step)\n",
    "            grid_y_hat = torchvision.utils.make_grid(torch.clamp(y_hat, 0, 1))\n",
    "            self.logger.experiment.add_image(\"train_y_hat\", grid_y_hat, self.global_step)\n",
    "        return loss\n",
    "    \n",
    "    def configure_optimizers(self):\n",
    "        optimizer = torch.optim.Adam(self.parameters(), lr=1e-3)\n",
    "        scheduler = torch.optim.lr_scheduler.CosineAnnealingLR(optimizer, 200, eta_min=1e-6)\n",
    "        return {\n",
    "            'optimizer': optimizer,\n",
    "            'lr_scheduler': {\n",
    "                'scheduler': scheduler,  \n",
    "                'interval': 'epoch',   \n",
    "                'frequency': 1,         \n",
    "                'monitor': 'train_loss',   \n",
    "                'strict': True        \n",
    "            }\n",
    "        }\n",
    "    \n",
    "model = LightningWrapper()\n",
    "summary(model, (16, 3, 256, 256))"
   ]
  },
  {
   "cell_type": "code",
   "execution_count": 7,
   "metadata": {},
   "outputs": [],
   "source": [
    "train_dataset = GoProDataset()\n",
    "train_dataloader = DataLoader(train_dataset, batch_size=16, shuffle=True, num_workers=11, persistent_workers=True)"
   ]
  },
  {
   "cell_type": "code",
   "execution_count": 8,
   "metadata": {},
   "outputs": [
    {
     "name": "stderr",
     "output_type": "stream",
     "text": [
      "Using bfloat16 Automatic Mixed Precision (AMP)\n",
      "GPU available: True (cuda), used: True\n",
      "TPU available: False, using: 0 TPU cores\n",
      "HPU available: False, using: 0 HPUs\n",
      "LOCAL_RANK: 0 - CUDA_VISIBLE_DEVICES: [0]\n",
      "\n",
      "  | Name    | Type           | Params | Mode \n",
      "---------------------------------------------------\n",
      "0 | model   | BaseLineUnet   | 17.0 M | train\n",
      "1 | loss_fn | PerceptualLoss | 388 K  | train\n",
      "---------------------------------------------------\n",
      "17.0 M    Trainable params\n",
      "388 K     Non-trainable params\n",
      "17.4 M    Total params\n",
      "69.649    Total estimated model params size (MB)\n",
      "626       Modules in train mode\n",
      "0         Modules in eval mode\n"
     ]
    },
    {
     "data": {
      "application/vnd.jupyter.widget-view+json": {
       "model_id": "b32fa1c4b36b44a9800eed8c2ec9ee05",
       "version_major": 2,
       "version_minor": 0
      },
      "text/plain": [
       "Training: |          | 0/? [00:00<?, ?it/s]"
      ]
     },
     "metadata": {},
     "output_type": "display_data"
    },
    {
     "name": "stderr",
     "output_type": "stream",
     "text": [
      "`Trainer.fit` stopped: `max_epochs=200` reached.\n"
     ]
    }
   ],
   "source": [
    "checkpoint_callback = ModelCheckpoint(monitor='train_loss', filename='best-checkpoint-{epoch:02d}-{train_loss:.6f}', save_last=True)\n",
    "lr_callback = LearningRateMonitor(logging_interval='epoch')\n",
    "torch.set_float32_matmul_precision(\"high\")\n",
    "trainer = L.Trainer(max_epochs=200, precision='bf16-mixed', callbacks=[checkpoint_callback, lr_callback])\n",
    "trainer.fit(model, train_dataloader)"
   ]
  }
 ],
 "metadata": {
  "kernelspec": {
   "display_name": "Python 3",
   "language": "python",
   "name": "python3"
  },
  "language_info": {
   "codemirror_mode": {
    "name": "ipython",
    "version": 3
   },
   "file_extension": ".py",
   "mimetype": "text/x-python",
   "name": "python",
   "nbconvert_exporter": "python",
   "pygments_lexer": "ipython3",
   "version": "3.12.6"
  }
 },
 "nbformat": 4,
 "nbformat_minor": 2
}
