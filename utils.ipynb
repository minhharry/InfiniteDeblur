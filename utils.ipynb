{
 "cells": [
  {
   "cell_type": "code",
   "execution_count": null,
   "metadata": {},
   "outputs": [],
   "source": [
    "import torch\n",
    "import os\n",
    "\n",
    "def extract_dict_to_files(data_dict, output_dir):\n",
    "    \"\"\"Extracts dictionary contents to files and a folder.\n",
    "\n",
    "    Args:\n",
    "        data_dict (dict): The dictionary containing file names and content.\n",
    "        output_dir (str): The path to the output directory.\n",
    "    \"\"\"\n",
    "    os.makedirs(output_dir, exist_ok=True)\n",
    "\n",
    "    for filename, content in data_dict.items():\n",
    "        filepath = os.path.join(output_dir, filename)\n",
    "        path_to_dir = os.path.dirname(filepath)  \n",
    "        os.makedirs(path_to_dir, exist_ok=True) \n",
    "        with open(filepath, 'w', encoding='utf-8') as f:\n",
    "            f.write(content)\n",
    "\n",
    "        print(f\"Extracted content to: {filepath}\")\n",
    "\n",
    "checkpoint = torch.load('lightning_logs/baselineunetRandomPerceptualLoss2/checkpoints/best-checkpoint-epoch=184-train_loss=0.001943.ckpt')\n",
    "extract_dict_to_files(checkpoint['model_code'], 'extract_model_code')"
   ]
  }
 ],
 "metadata": {
  "kernelspec": {
   "display_name": "Python 3",
   "language": "python",
   "name": "python3"
  },
  "language_info": {
   "codemirror_mode": {
    "name": "ipython",
    "version": 3
   },
   "file_extension": ".py",
   "mimetype": "text/x-python",
   "name": "python",
   "nbconvert_exporter": "python",
   "pygments_lexer": "ipython3",
   "version": "3.12.6"
  }
 },
 "nbformat": 4,
 "nbformat_minor": 2
}
