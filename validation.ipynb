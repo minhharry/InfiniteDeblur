{
 "cells": [
  {
   "cell_type": "code",
   "execution_count": null,
   "metadata": {},
   "outputs": [],
   "source": [
    "import lightning as L\n",
    "from model import BaseLineUnet\n",
    "import torch\n",
    "import torch.nn as nn\n",
    "from dataset import GoProDataset\n",
    "from torchvision.transforms import v2\n",
    "import matplotlib.pyplot as plt\n",
    "import random\n",
    "from PIL import Image\n",
    "import torch.nn.functional as F\n",
    "from torch.utils.data import DataLoader\n",
    "from torchmetrics.image import PeakSignalNoiseRatio, StructuralSimilarityIndexMeasure, LearnedPerceptualImagePatchSimilarity\n",
    "from tqdm import tqdm"
   ]
  },
  {
   "cell_type": "code",
   "execution_count": null,
   "metadata": {},
   "outputs": [],
   "source": [
    "import glob\n",
    "ckpt_paths = glob.glob('lightning_logs/version_15/**/*.ckpt', recursive=True)\n",
    "ckpt_paths"
   ]
  },
  {
   "cell_type": "code",
   "execution_count": null,
   "metadata": {},
   "outputs": [],
   "source": [
    "device = 'cuda' if torch.cuda.is_available() else 'cpu'\n",
    "model = BaseLineUnet(num_encoder_blocks=[1,1,1,14])\n",
    "model.to(device)"
   ]
  },
  {
   "cell_type": "code",
   "execution_count": null,
   "metadata": {},
   "outputs": [],
   "source": [
    "psnr_fn = PeakSignalNoiseRatio().to(device)\n",
    "ssim_fn = StructuralSimilarityIndexMeasure().to(device)\n",
    "lpips_fn = LearnedPerceptualImagePatchSimilarity(normalize=True).to(device)\n",
    "psnr_arr = []\n",
    "ssim_arr = []\n",
    "lpips_arr = []"
   ]
  },
  {
   "cell_type": "code",
   "execution_count": null,
   "metadata": {},
   "outputs": [],
   "source": [
    "def big_img_inference(img_tensor, sharp_tensor):\n",
    "    B, C, H, W = img_tensor.shape\n",
    "    pad_h = 256 - (H % 256) if H % 256 != 0 else 0\n",
    "    pad_w = 256 - (W % 256) if W % 256 != 0 else 0\n",
    "    img_tensor = F.pad(img_tensor, (0, pad_w, 0, pad_h))\n",
    "    out_tensor = torch.zeros_like(img_tensor, device=device)\n",
    "    with torch.inference_mode():\n",
    "        out_tensor = model(img_tensor)\n",
    "                \n",
    "    out_tensor = torch.clamp(out_tensor, 0, 1)\n",
    "    out_tensor = out_tensor[:, :, :out_tensor.shape[2]-pad_h, :out_tensor.shape[3]-pad_w]\n",
    "    psnr_arr.append(psnr_fn(out_tensor, sharp_tensor))\n",
    "    ssim_arr.append(ssim_fn(out_tensor, sharp_tensor))\n",
    "    lpips_loss = lpips_fn(out_tensor, sharp_tensor)\n",
    "    lpips_arr.append(lpips_loss)"
   ]
  },
  {
   "cell_type": "code",
   "execution_count": null,
   "metadata": {},
   "outputs": [],
   "source": [
    "dataset = GoProDataset('E:\\\\Downloads\\\\GOPRO_Large\\\\test', mode='test')\n",
    "dataloader = DataLoader(dataset, batch_size=4, shuffle=False, num_workers=11)"
   ]
  },
  {
   "cell_type": "code",
   "execution_count": null,
   "metadata": {},
   "outputs": [],
   "source": [
    "for path in ckpt_paths:\n",
    "    psnr_arr = []\n",
    "    ssim_arr = []\n",
    "    lpips_arr = []\n",
    "    checkpoint = torch.load(path)\n",
    "    model_weights = checkpoint[\"state_dict\"]\n",
    "    for key in list(model_weights):\n",
    "        model_weights[key.replace(\"model.\", \"\")] = model_weights.pop(key)\n",
    "    for key in list(model_weights):\n",
    "        if key.startswith(\"loss_fn.\"):\n",
    "            model_weights.pop(key)\n",
    "    model.load_state_dict(model_weights)\n",
    "    model.eval()\n",
    "    for sample in tqdm(dataloader):\n",
    "        x, y = sample\n",
    "        x = x.to(device)\n",
    "        y = y.to(device)\n",
    "        big_img_inference(x, y)\n",
    "\n",
    "    psnr_avg = sum(psnr_arr) / len(psnr_arr)\n",
    "    ssim_avg = sum(ssim_arr) / len(ssim_arr)\n",
    "    lpips_avg = sum(lpips_arr) / len(lpips_arr)\n",
    "    print(path)\n",
    "    print(f\"{psnr_avg.item():.4f}\\t{ssim_avg.item():.4f}\\t{lpips_avg.item():.4f}\")"
   ]
  }
 ],
 "metadata": {
  "kernelspec": {
   "display_name": "Python 3",
   "language": "python",
   "name": "python3"
  },
  "language_info": {
   "codemirror_mode": {
    "name": "ipython",
    "version": 3
   },
   "file_extension": ".py",
   "mimetype": "text/x-python",
   "name": "python",
   "nbconvert_exporter": "python",
   "pygments_lexer": "ipython3",
   "version": "3.12.6"
  }
 },
 "nbformat": 4,
 "nbformat_minor": 2
}
