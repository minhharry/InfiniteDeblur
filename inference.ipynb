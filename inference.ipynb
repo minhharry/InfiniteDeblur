{
 "cells": [
  {
   "cell_type": "code",
   "execution_count": 1,
   "metadata": {},
   "outputs": [],
   "source": [
    "import lightning as L\n",
    "from model import BaseLineUnet\n",
    "import torch\n",
    "import torch.nn as nn\n",
    "import torch.optim as optim\n",
    "from torch.utils.data import DataLoader\n",
    "from dataset import GoProDataset, AnimeDataset\n",
    "from torchvision.transforms import v2\n",
    "import matplotlib.pyplot as plt\n",
    "import random\n",
    "from NAFnet_baseline.Baseline_arch import Baseline\n",
    "import torch.nn.functional as F"
   ]
  },
  {
   "cell_type": "code",
   "execution_count": null,
   "metadata": {},
   "outputs": [],
   "source": [
    "# img_channel = 3\n",
    "# width = 32\n",
    "\n",
    "# dw_expand = 1\n",
    "# ffn_expand = 2\n",
    "\n",
    "\n",
    "# enc_blks = [1, 1, 1, 28]\n",
    "# middle_blk_num = 1\n",
    "# dec_blks = [1, 1, 1, 1]\n",
    "\n",
    "# model = Baseline(img_channel=img_channel, width=width, middle_blk_num=middle_blk_num,\n",
    "#                  enc_blk_nums=enc_blks, dec_blk_nums=dec_blks, dw_expand=dw_expand, ffn_expand=ffn_expand)\n",
    "model = BaseLineUnet()\n",
    "checkpoint = torch.load(\"lightning_logs/baselineunetwithlpipsloss2/checkpoints/best-checkpoint-epoch=55-train_loss=-103.956345.ckpt\")"
   ]
  },
  {
   "cell_type": "code",
   "execution_count": 3,
   "metadata": {},
   "outputs": [],
   "source": [
    "model_weights = checkpoint[\"state_dict\"]\n",
    "for key in list(model_weights):\n",
    "    model_weights[key.replace(\"model.\", \"\")] = model_weights.pop(key)"
   ]
  },
  {
   "cell_type": "code",
   "execution_count": 4,
   "metadata": {},
   "outputs": [],
   "source": [
    "for key in list(model_weights):\n",
    "    if key.startswith('loss_fn.'):\n",
    "        model_weights.pop(key)"
   ]
  },
  {
   "cell_type": "code",
   "execution_count": null,
   "metadata": {},
   "outputs": [],
   "source": [
    "model.load_state_dict(model_weights)\n",
    "model.eval()"
   ]
  },
  {
   "cell_type": "code",
   "execution_count": 6,
   "metadata": {},
   "outputs": [],
   "source": [
    "# transform = v2.Compose([\n",
    "#     v2.ToImage(),\n",
    "#     v2.ToDtype(torch.float32, scale=True)\n",
    "# ])\n",
    "# dataset = GoProDataset(transform=transform, size=512)\n",
    "dataset = GoProDataset()"
   ]
  },
  {
   "cell_type": "code",
   "execution_count": null,
   "metadata": {},
   "outputs": [],
   "source": [
    "sample = dataset[random.randint(0, len(dataset))]\n",
    "with torch.inference_mode():\n",
    "    predict = model(sample[0].unsqueeze(0))\n",
    "\n",
    "fig, axes = plt.subplots(1, 3, figsize=(10, 5))\n",
    "axes[0].imshow(sample[0].numpy().transpose(1, 2, 0))\n",
    "axes[1].imshow(sample[1].numpy().transpose(1, 2, 0))\n",
    "axes[2].imshow(predict.squeeze().numpy().transpose(1, 2, 0))\n",
    "plt.savefig('result.png')\n",
    "plt.show()"
   ]
  },
  {
   "cell_type": "code",
   "execution_count": null,
   "metadata": {},
   "outputs": [],
   "source": [
    "F.mse_loss(sample[1], predict)"
   ]
  },
  {
   "cell_type": "code",
   "execution_count": 9,
   "metadata": {},
   "outputs": [],
   "source": [
    "image = v2.ToPILImage()(torch.clamp(sample[0], min=0, max=1))\n",
    "image.save('blur.png')\n",
    "image = v2.ToPILImage()(torch.clamp(sample[1], min=0, max=1))\n",
    "image.save('sharp.png')\n",
    "image = v2.ToPILImage()(torch.clamp(predict.squeeze(), min=0, max=1))\n",
    "image.save('predict.png')"
   ]
  },
  {
   "cell_type": "code",
   "execution_count": 16,
   "metadata": {},
   "outputs": [],
   "source": []
  }
 ],
 "metadata": {
  "kernelspec": {
   "display_name": "Python 3",
   "language": "python",
   "name": "python3"
  },
  "language_info": {
   "codemirror_mode": {
    "name": "ipython",
    "version": 3
   },
   "file_extension": ".py",
   "mimetype": "text/x-python",
   "name": "python",
   "nbconvert_exporter": "python",
   "pygments_lexer": "ipython3",
   "version": "3.12.6"
  }
 },
 "nbformat": 4,
 "nbformat_minor": 2
}
