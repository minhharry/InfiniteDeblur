{
 "cells": [
  {
   "cell_type": "code",
   "execution_count": null,
   "metadata": {},
   "outputs": [],
   "source": [
    "import lightning as L\n",
    "from model import BaseLineUnet\n",
    "import torch\n",
    "import torch.nn as nn\n",
    "from dataset import GoProDataset\n",
    "from torchvision.transforms import v2\n",
    "import matplotlib.pyplot as plt\n",
    "import random\n",
    "from PIL import Image\n",
    "import torch.nn.functional as F"
   ]
  },
  {
   "cell_type": "code",
   "execution_count": null,
   "metadata": {},
   "outputs": [],
   "source": [
    "device = 'cuda' if torch.cuda.is_available() else 'cpu'\n",
    "model = BaseLineUnet()\n",
    "model.to(device)\n",
    "checkpoint = torch.load(\"lightning_logs/baselineunetRandomPerceptualL1Loss/checkpoints/best-checkpoint-epoch=182-train_loss=0.048400.ckpt\")"
   ]
  },
  {
   "cell_type": "code",
   "execution_count": null,
   "metadata": {},
   "outputs": [],
   "source": [
    "model_weights = checkpoint[\"state_dict\"]\n",
    "for key in list(model_weights):\n",
    "    model_weights[key.replace(\"model.\", \"\")] = model_weights.pop(key)\n",
    "for key in list(model_weights):\n",
    "    if key.startswith(\"loss_fn.\"):\n",
    "        model_weights.pop(key)"
   ]
  },
  {
   "cell_type": "code",
   "execution_count": null,
   "metadata": {},
   "outputs": [],
   "source": [
    "model.load_state_dict(model_weights)\n",
    "model.eval()"
   ]
  },
  {
   "cell_type": "code",
   "execution_count": null,
   "metadata": {},
   "outputs": [],
   "source": [
    "dataset = GoProDataset()"
   ]
  },
  {
   "cell_type": "code",
   "execution_count": null,
   "metadata": {},
   "outputs": [],
   "source": [
    "sample = dataset[random.randint(0, len(dataset))]\n",
    "with torch.inference_mode():\n",
    "    predict = model(sample[0].unsqueeze(0).to(device))\n",
    "\n",
    "fig, axes = plt.subplots(1, 3, figsize=(10, 5))\n",
    "axes[0].imshow(sample[0].numpy().transpose(1, 2, 0))\n",
    "axes[1].imshow(sample[1].numpy().transpose(1, 2, 0))\n",
    "axes[2].imshow(predict.squeeze().cpu().numpy().transpose(1, 2, 0))\n",
    "plt.show()"
   ]
  },
  {
   "cell_type": "code",
   "execution_count": null,
   "metadata": {},
   "outputs": [],
   "source": [
    "image = v2.ToPILImage()(torch.clamp(sample[0], min=0, max=1))\n",
    "image.save('blur.png')\n",
    "image = v2.ToPILImage()(torch.clamp(sample[1], min=0, max=1))\n",
    "image.save('sharp.png')\n",
    "image = v2.ToPILImage()(torch.clamp(predict.squeeze(), min=0, max=1))\n",
    "image.save('predict.png')"
   ]
  },
  {
   "cell_type": "code",
   "execution_count": null,
   "metadata": {},
   "outputs": [],
   "source": [
    "def sliding_window_inference(img_path, save_patch=False):\n",
    "    img = Image.open(img_path).convert('RGB')\n",
    "    to_tensor = v2.Compose([\n",
    "        v2.ToImage(),\n",
    "        v2.ToDtype(torch.float32, scale=True)\n",
    "    ])\n",
    "    to_img = v2.ToPILImage()\n",
    "    img_tensor = to_tensor(img)\n",
    "    C, H, W = img_tensor.shape\n",
    "    pad_h = 256 - (H % 256) if H % 256 != 0 else 0\n",
    "    pad_w = 256 - (W % 256) if W % 256 != 0 else 0\n",
    "    img_tensor = F.pad(img_tensor, (0, pad_w, 0, pad_h), mode='constant', value=0).to(device)\n",
    "    out_tensor = torch.zeros_like(img_tensor).to(device)\n",
    "    C, H, W = img_tensor.shape\n",
    "    with torch.inference_mode():\n",
    "        stride = 128\n",
    "        for i in range(0, H-255, stride):\n",
    "            for j in range(0, W-255, stride):\n",
    "                temp = model(img_tensor[:, i:i+256, j:j+256].unsqueeze(0).to(device)).squeeze()\n",
    "                temp_out_tensor = out_tensor[:, i:i+256, j:j+256]\n",
    "                temp_out_tensor = torch.where(temp_out_tensor > 0, (temp_out_tensor + temp) / 2, temp)\n",
    "                out_tensor[:, i:i+256, j:j+256] = temp_out_tensor\n",
    "                if save_patch:\n",
    "                    to_img(torch.clamp(temp_out_tensor, 0, 1)).save('z'+str(i)+'_'+str(j)+'.png')\n",
    "                \n",
    "    out_tensor = torch.clamp(out_tensor, 0, 1)\n",
    "    out_tensor = out_tensor[:, :out_tensor.shape[1]-pad_h, :out_tensor.shape[2]-pad_w]\n",
    "    output = to_img(out_tensor)\n",
    "    output.save('y_hat.png')"
   ]
  },
  {
   "cell_type": "code",
   "execution_count": null,
   "metadata": {},
   "outputs": [],
   "source": [
    "sliding_window_inference('E:\\\\Downloads\\\\GOPRO_Large\\\\test\\\\GOPR0384_11_00\\\\blur_gamma\\\\000001.png')"
   ]
  },
  {
   "cell_type": "code",
   "execution_count": null,
   "metadata": {},
   "outputs": [],
   "source": [
    "def big_img_inference(img_path):\n",
    "    img = Image.open(img_path).convert('RGB')\n",
    "    to_tensor = v2.Compose([\n",
    "        v2.ToImage(),\n",
    "        v2.ToDtype(torch.float32, scale=True)\n",
    "    ])\n",
    "    to_img = v2.ToPILImage()\n",
    "    img_tensor = to_tensor(img)\n",
    "    C, H, W = img_tensor.shape\n",
    "    pad_h = 256 - (H % 256) if H % 256 != 0 else 0\n",
    "    pad_w = 256 - (W % 256) if W % 256 != 0 else 0\n",
    "    img_tensor = F.pad(img_tensor, (0, pad_w, 0, pad_h)).to(device)\n",
    "    out_tensor = torch.zeros_like(img_tensor).to(device)\n",
    "    with torch.inference_mode():\n",
    "        out_tensor = model(img_tensor.unsqueeze(0).to(device)).squeeze()\n",
    "                \n",
    "    out_tensor = torch.clamp(out_tensor, 0, 1)\n",
    "    out_tensor = out_tensor[:, :out_tensor.shape[1]-pad_h, :out_tensor.shape[2]-pad_w]\n",
    "    output = to_img(out_tensor)\n",
    "    output.save('y_hat2.png')"
   ]
  },
  {
   "cell_type": "code",
   "execution_count": null,
   "metadata": {},
   "outputs": [],
   "source": [
    "big_img_inference('E:\\\\Downloads\\\\GOPRO_Large\\\\test\\\\GOPR0384_11_00\\\\blur_gamma\\\\000001.png')"
   ]
  }
 ],
 "metadata": {
  "kernelspec": {
   "display_name": "Python 3",
   "language": "python",
   "name": "python3"
  },
  "language_info": {
   "codemirror_mode": {
    "name": "ipython",
    "version": 3
   },
   "file_extension": ".py",
   "mimetype": "text/x-python",
   "name": "python",
   "nbconvert_exporter": "python",
   "pygments_lexer": "ipython3",
   "version": "3.12.6"
  }
 },
 "nbformat": 4,
 "nbformat_minor": 2
}
