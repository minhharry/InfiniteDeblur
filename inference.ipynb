{
 "cells": [
  {
   "cell_type": "code",
   "execution_count": 1,
   "metadata": {},
   "outputs": [],
   "source": [
    "import lightning as L\n",
    "from model import BaseLineUnet\n",
    "import torch\n",
    "import torch.nn as nn\n",
<<<<<<< HEAD
    "import torch.optim as optim\n",
    "from torch.utils.data import DataLoader\n",
    "from dataset import GoProDataset, AnimeDataset\n",
    "from torchvision.transforms import v2\n",
    "import matplotlib.pyplot as plt\n",
    "import random\n",
    "from NAFnet_baseline.Baseline_arch import Baseline\n",
    "import torch.nn.functional as F"
=======
    "from dataset import GoProDataset\n",
    "from torchvision.transforms import v2\n",
    "import matplotlib.pyplot as plt\n",
    "import random"
>>>>>>> e329943b4a3e1f1fc43bb9d55f5d639ba4ff7b50
   ]
  },
  {
   "cell_type": "code",
   "execution_count": 2,
   "metadata": {},
   "outputs": [],
   "source": [
    "# img_channel = 3\n",
    "# width = 32\n",
    "\n",
    "# dw_expand = 1\n",
    "# ffn_expand = 2\n",
    "\n",
    "\n",
    "# enc_blks = [1, 1, 1, 28]\n",
    "# middle_blk_num = 1\n",
    "# dec_blks = [1, 1, 1, 1]\n",
    "\n",
    "# model = Baseline(img_channel=img_channel, width=width, middle_blk_num=middle_blk_num,\n",
    "#                  enc_blk_nums=enc_blks, dec_blk_nums=dec_blks, dw_expand=dw_expand, ffn_expand=ffn_expand)\n",
    "model = BaseLineUnet()\n",
<<<<<<< HEAD
    "checkpoint = torch.load(\"lightning_logs/baselineunetwithlpipsloss2/checkpoints/best-checkpoint-epoch=55-train_loss=-103.956345.ckpt\")"
=======
    "checkpoint = torch.load(\"lightning_logs/version_1/checkpoints/best-checkpoint-epoch=194-train_loss=0.0011.ckpt\")"
>>>>>>> e329943b4a3e1f1fc43bb9d55f5d639ba4ff7b50
   ]
  },
  {
   "cell_type": "code",
   "execution_count": 3,
   "metadata": {},
   "outputs": [],
   "source": [
    "model_weights = checkpoint[\"state_dict\"]\n",
    "for key in list(model_weights):\n",
    "    model_weights[key.replace(\"model.\", \"\")] = model_weights.pop(key)"
   ]
  },
  {
   "cell_type": "code",
   "execution_count": 4,
   "metadata": {},
   "outputs": [],
   "source": [
    "for key in list(model_weights):\n",
    "    if key.startswith('loss_fn.'):\n",
    "        model_weights.pop(key)"
   ]
  },
  {
   "cell_type": "code",
   "execution_count": null,
   "metadata": {},
   "outputs": [],
   "source": [
    "model.load_state_dict(model_weights)\n",
    "model.eval()"
   ]
  },
  {
   "cell_type": "code",
   "execution_count": 6,
   "metadata": {},
   "outputs": [],
   "source": [
<<<<<<< HEAD
    "# transform = v2.Compose([\n",
    "#     v2.ToImage(),\n",
    "#     v2.ToDtype(torch.float32, scale=True)\n",
    "# ])\n",
    "# dataset = GoProDataset(transform=transform, size=512)\n",
    "dataset = GoProDataset()"
=======
    "transform = v2.Compose([\n",
    "    v2.ToImage(),\n",
    "    v2.ToDtype(torch.float32, scale=True)\n",
    "])\n",
    "dataset = GoProDataset(transform=transform)"
>>>>>>> e329943b4a3e1f1fc43bb9d55f5d639ba4ff7b50
   ]
  },
  {
   "cell_type": "code",
   "execution_count": null,
   "metadata": {},
   "outputs": [],
   "source": [
    "sample = dataset[random.randint(0, len(dataset))]\n",
    "with torch.inference_mode():\n",
    "    predict = model(sample[0].unsqueeze(0))\n",
    "\n",
    "fig, axes = plt.subplots(1, 3, figsize=(10, 5))\n",
    "axes[0].imshow(sample[0].numpy().transpose(1, 2, 0))\n",
    "axes[1].imshow(sample[1].numpy().transpose(1, 2, 0))\n",
    "axes[2].imshow(predict.squeeze().numpy().transpose(1, 2, 0))\n",
    "plt.show()"
   ]
  },
  {
   "cell_type": "code",
<<<<<<< HEAD
   "execution_count": null,
   "metadata": {},
   "outputs": [],
   "source": [
    "F.mse_loss(sample[1], predict)"
   ]
  },
  {
   "cell_type": "code",
   "execution_count": 9,
=======
   "execution_count": 7,
>>>>>>> e329943b4a3e1f1fc43bb9d55f5d639ba4ff7b50
   "metadata": {},
   "outputs": [],
   "source": [
    "image = v2.ToPILImage()(torch.clamp(sample[0], min=0, max=1))\n",
    "image.save('blur.png')\n",
    "image = v2.ToPILImage()(torch.clamp(sample[1], min=0, max=1))\n",
    "image.save('sharp.png')\n",
    "image = v2.ToPILImage()(torch.clamp(predict.squeeze(), min=0, max=1))\n",
    "image.save('predict.png')"
   ]
  },
  {
   "cell_type": "code",
   "execution_count": 6,
   "metadata": {},
   "outputs": [],
   "source": [
    "from PIL import Image"
   ]
  },
  {
   "cell_type": "code",
   "execution_count": 7,
   "metadata": {},
   "outputs": [],
   "source": [
    "to_tensor = v2.Compose([\n",
    "    v2.PILToTensor() ,\n",
    "    v2.ToDtype(torch.float32)  \n",
    "])"
   ]
  },
  {
   "cell_type": "code",
   "execution_count": 10,
   "metadata": {},
   "outputs": [],
   "source": [
    "to_image = v2.Compose([\n",
    "    v2.ToPILImage()\n",
    "])"
   ]
  },
  {
   "cell_type": "code",
   "execution_count": null,
   "metadata": {},
   "outputs": [],
   "source": [
    "dtype = torch.cuda.FloatTensor if torch.cuda.is_available() else torch.FloatTensor\n",
    "dtype"
   ]
  },
  {
   "cell_type": "code",
   "execution_count": null,
   "metadata": {},
   "outputs": [],
   "source": [
    "def image_scanning(img_path):\n",
    "\n",
    "    img = Image.open('C:\\\\Users\\\\ad\\Desktop\\\\New folder (3)\\\\InfiniteDeblur\\\\sample.webp')\n",
    "    img = transform(img).unsqueeze(0)\n",
    "    img_unf = nn.functional.unfold(img,kernel_size=256,stride=16)\n",
    "    for i in range (img_unf.shape[2] // 2):\n",
    "        temp = img_unf[0,:,i].reshape(3,256,256)\n",
    "        with torch.inference_mode():\n",
    "            temp = model(temp.unsqueeze(0)).squeeze(0)\n",
    "        img_unf[0,:,i] = temp.reshape(-1)\n",
    "    img_f = nn.functional.fold(img_unf,img.shape[-2:],kernel_size=256,stride=16).squeeze(0)\n",
    "    norm_map = nn.functional.fold(nn.functional.unfold(torch.ones(img.shape),kernel_size=256,stride=16),img.shape[-2:],kernel_size=256,stride=16)\n",
    "    img_f = img_f/norm_map\n",
    "    to_image(img_f.squeeze(0)).save('C:\\\\Users\\\\ad\\Desktop\\\\New folder (3)\\\\InfiniteDeblur\\\\' + 'output.png')\n"
   ]
  },
  {
   "cell_type": "code",
   "execution_count": null,
   "metadata": {},
   "outputs": [],
   "source": [
    "img1 = Image.open('C:\\\\Users\\\\ad\\Desktop\\\\New folder (3)\\\\InfiniteDeblur\\\\sample.webp')\n",
    "img2 = Image.open('C:\\\\Users\\\\ad\\Desktop\\\\New folder (3)\\\\InfiniteDeblur\\\\output.png')\n",
    "\n",
    "\n",
    "print(torch.sum(to_tensor(img1)-to_tensor(img2)))\n"
   ]
  },
  {
   "cell_type": "code",
   "execution_count": 52,
   "metadata": {},
   "outputs": [],
   "source": [
    "def scanning(image_path):\n",
    "    img = Image.open(image_path)\n",
    "    img = img.convert('RGB')\n",
    "    img_tensor = transform(img)\n",
    "    H,W = img_tensor.shape[1] , img_tensor.shape[2]\n",
    "    pad = torch.zeros([3,((H+256)//256)*256 - H,W])\n",
    "    img_tensor = torch.cat([img_tensor,pad] , dim=1)\n",
    "\n",
    "    pad = torch.zeros([3,img_tensor.shape[1],((W+256)//256)*256 - W])\n",
    "    img_tensor = torch.cat([img_tensor,pad] , dim=2)\n",
    "\n",
    "    for i in range(0,H-256,256):\n",
    "        for j in range(0,W-256,256):\n",
    "            window = img.crop((i,j,i+256,j+256))\n",
    "            window = transform(window).unsqueeze(0)\n",
    "            with torch.inference_mode():\n",
    "                window = model(window).squeeze(0)\n",
    "            img_tensor[:,i:i+256,j:j+256] = window\n",
    "\n",
    "    output = to_image(img_tensor)\n",
    "    output.show()\n",
    "\n",
    "    return img_tensor"
   ]
  },
  {
   "cell_type": "code",
   "execution_count": null,
   "metadata": {},
   "outputs": [],
   "source": [
    "img_path = 'C:\\\\Users\\\\ad\\Desktop\\\\New folder (3)\\\\InfiniteDeblur\\\\sample.webp'"
   ]
  },
  {
   "cell_type": "code",
   "execution_count": null,
   "metadata": {},
   "outputs": [],
   "source": [
    "scanning(img_path)"
   ]
  },
  {
   "cell_type": "code",
   "execution_count": null,
   "metadata": {},
   "outputs": [],
   "source": [
    "img = Image.open(img_path)\n",
    "img = img.convert('RGB')\n",
    "img_tensor = transform(img)\n",
    "H,W = img_tensor.shape[1] , img_tensor.shape[2]\n",
    "print(H,' ' , W)\n",
    "height = [256]*(H//256) + [H-256*(H//256)]\n",
    "width = [256]*(W//256) + [W-256*(W//256)]\n",
    "\n",
    "pad = torch.zeros([3,((H+256)//256)*256 - H,W])\n",
    "img_tensor = torch.cat([img_tensor,pad] , dim=1)\n",
    "\n",
    "pad = torch.zeros([3,img_tensor.shape[1],((W+256)//256)*256 - W])\n",
    "img_tensor = torch.cat([img_tensor,pad] , dim=2)\n",
    "\n",
    "img_tensor = to_image(img_tensor)\n",
    "img_tensor.show()"
   ]
  }
 ],
 "metadata": {
  "kernelspec": {
   "display_name": "Python 3",
   "language": "python",
   "name": "python3"
  },
  "language_info": {
   "codemirror_mode": {
    "name": "ipython",
    "version": 3
   },
   "file_extension": ".py",
   "mimetype": "text/x-python",
   "name": "python",
   "nbconvert_exporter": "python",
   "pygments_lexer": "ipython3",
   "version": "3.12.4"
  }
 },
 "nbformat": 4,
 "nbformat_minor": 2
}
